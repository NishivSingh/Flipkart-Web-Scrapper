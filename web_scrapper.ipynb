{
 "cells": [
  {
   "cell_type": "markdown",
   "metadata": {},
   "source": [
    "# Import Libraries"
   ]
  },
  {
   "cell_type": "code",
   "execution_count": 2,
   "metadata": {},
   "outputs": [],
   "source": [
    "from bs4 import BeautifulSoup\n",
    "import requests\n",
    "import smtplib\n",
    "import time\n",
    "import datetime"
   ]
  },
  {
   "cell_type": "markdown",
   "metadata": {},
   "source": [
    "# Connect to website"
   ]
  },
  {
   "cell_type": "code",
   "execution_count": 3,
   "metadata": {},
   "outputs": [],
   "source": [
    "URL = \"https://www.flipkart.com/search?q=smartphones&otracker=search&otracker1=search&marketplace=FLIPKART&as-show=on&as=off&sort=popularity\"\n",
    "\n",
    "headers = {\"User-Agent\": \"Mozilla/5.0 (Windows NT 10.0; Win64; x64) AppleWebKit/537.36 (KHTML, like Gecko) Chrome/132.0.0.0 Safari/537.36\",\"Accept-Encoding\":\"gzip, deflate\",\"Accept\":\"text/html,application/xhtml+xml,application/xml;q=0.9,*/*;q=0.8\",\"DNT\":\"1\",\"Connection\":\"close\",\"Upgrade-Insecure-Requests\":\"1\"}"
   ]
  },
  {
   "cell_type": "code",
   "execution_count": 4,
   "metadata": {},
   "outputs": [],
   "source": [
    "page = requests.get(URL,headers=headers)"
   ]
  },
  {
   "cell_type": "code",
   "execution_count": 5,
   "metadata": {},
   "outputs": [],
   "source": [
    "soup1 = BeautifulSoup(page.content,\"html.parser\")"
   ]
  },
  {
   "cell_type": "code",
   "execution_count": 6,
   "metadata": {},
   "outputs": [],
   "source": [
    "soup2 = BeautifulSoup(soup1.prettify(),\"html.parser\")"
   ]
  },
  {
   "cell_type": "code",
   "execution_count": 7,
   "metadata": {},
   "outputs": [
    {
     "name": "stdout",
     "output_type": "stream",
     "text": [
      "<title>\n",
      "   Smartphones- Buy Products Online at Best Price in India - All Categories | Flipkart.com\n",
      "  </title>\n"
     ]
    }
   ],
   "source": [
    "print(soup2.title)"
   ]
  },
  {
   "cell_type": "code",
   "execution_count": 8,
   "metadata": {},
   "outputs": [],
   "source": [
    "total_items = len(soup2.findAll(class_ = \"_75nlfW\"))"
   ]
  },
  {
   "cell_type": "code",
   "execution_count": 9,
   "metadata": {},
   "outputs": [
    {
     "data": {
      "text/plain": [
       "24"
      ]
     },
     "execution_count": 9,
     "metadata": {},
     "output_type": "execute_result"
    }
   ],
   "source": [
    "total_items"
   ]
  },
  {
   "cell_type": "code",
   "execution_count": 10,
   "metadata": {},
   "outputs": [],
   "source": [
    "divs_class_name = [\"KzDlHZ\",\"Nx9bqj\"]"
   ]
  },
  {
   "cell_type": "code",
   "execution_count": 11,
   "metadata": {},
   "outputs": [],
   "source": [
    "def get_list(div_list):\n",
    "    lst = []\n",
    "    for div in div_list:\n",
    "        lst.append(div.get_text().strip())\n",
    "    return lst"
   ]
  },
  {
   "cell_type": "code",
   "execution_count": 12,
   "metadata": {},
   "outputs": [],
   "source": [
    "item_list = []\n",
    "\n",
    "for class_name in divs_class_name:\n",
    "    item_list.append(get_list(soup2.find_all(class_=class_name)))"
   ]
  },
  {
   "cell_type": "code",
   "execution_count": 13,
   "metadata": {},
   "outputs": [
    {
     "data": {
      "text/plain": [
       "[['SAMSUNG Galaxy F05 (Twilight Blue, 64 GB)',\n",
       "  'MOTOROLA g05 (Forest Green, 64 GB)',\n",
       "  'POCO C61 (Diamond Dust Black, 64 GB)',\n",
       "  'POCO C61 (Ethereal Blue, 64 GB)',\n",
       "  'POCO C61  - Locked with Airtel Prepaid (Diamond Dust Black, 64 GB)',\n",
       "  'MOTOROLA g05 (Plum Red, 64 GB)',\n",
       "  'CMF by Nothing Phone 1 (Light Green, 128 GB)',\n",
       "  'realme 70 TURBO 5G (Turbo Yellow, 128 GB)',\n",
       "  'POCO C75 5G (Aqua Bliss, 64 GB)',\n",
       "  'POCO M6 5G - Locked with Airtel Prepaid (Polaris Green, 128 GB)',\n",
       "  'MOTOROLA g35 5G (Leaf Green, 128 GB)',\n",
       "  'OnePlus Nord CE 3 Lite 5G (Pastel Lime, 128 GB)',\n",
       "  'Infinix Note 40X 5G (Palm Blue, 256 GB)',\n",
       "  'Motorola g64 5G (Mint Green, 256 GB)',\n",
       "  'vivo T3 5G (Crystal Flake, 128 GB)',\n",
       "  'MOTOROLA g35 5G (Midnight Black, 128 GB)',\n",
       "  'OnePlus 13R 5G (Nebula Noir, 256 GB)',\n",
       "  'Infinix Note 40X 5G (Starlit Black, 256 GB)',\n",
       "  'Motorola G85 5G (Viva Magenta, 128 GB)',\n",
       "  'POCO C75 5G (Enchanted Green, 64 GB)',\n",
       "  'realme C61 (Safari Green, 128 GB)',\n",
       "  'POCO C75 5G (Silver Stardust, 64 GB)',\n",
       "  'CMF by Nothing Phone 1 (Black, 128 GB)',\n",
       "  'IQOO Z9x (Storm Grey, 128 GB)'],\n",
       " ['₹6,299',\n",
       "  '₹6,999',\n",
       "  '₹5,899',\n",
       "  '₹5,899',\n",
       "  '₹5,399',\n",
       "  '₹6,999',\n",
       "  '₹15,499',\n",
       "  '₹14,829',\n",
       "  '₹7,999',\n",
       "  '₹7,920',\n",
       "  '₹9,999',\n",
       "  '₹15,198',\n",
       "  '₹13,999',\n",
       "  '₹16,999',\n",
       "  '₹18,499',\n",
       "  '₹9,999',\n",
       "  '₹41,399',\n",
       "  '₹13,999',\n",
       "  '₹17,999',\n",
       "  '₹7,999',\n",
       "  '₹8,199',\n",
       "  '₹7,999',\n",
       "  '₹15,499',\n",
       "  '₹11,975',\n",
       "  '₹11,975',\n",
       "  '₹15,198',\n",
       "  '₹17,999',\n",
       "  '₹6,299',\n",
       "  '₹13,999']]"
      ]
     },
     "execution_count": 13,
     "metadata": {},
     "output_type": "execute_result"
    }
   ],
   "source": [
    "item_list"
   ]
  },
  {
   "cell_type": "code",
   "execution_count": 14,
   "metadata": {},
   "outputs": [],
   "source": [
    "item_title = item_list[0]\n",
    "item_price = item_list[1]"
   ]
  },
  {
   "cell_type": "code",
   "execution_count": 15,
   "metadata": {},
   "outputs": [
    {
     "data": {
      "text/plain": [
       "['SAMSUNG Galaxy F05 (Twilight Blue, 64 GB)',\n",
       " 'MOTOROLA g05 (Forest Green, 64 GB)',\n",
       " 'POCO C61 (Diamond Dust Black, 64 GB)',\n",
       " 'POCO C61 (Ethereal Blue, 64 GB)',\n",
       " 'POCO C61  - Locked with Airtel Prepaid (Diamond Dust Black, 64 GB)',\n",
       " 'MOTOROLA g05 (Plum Red, 64 GB)',\n",
       " 'CMF by Nothing Phone 1 (Light Green, 128 GB)',\n",
       " 'realme 70 TURBO 5G (Turbo Yellow, 128 GB)',\n",
       " 'POCO C75 5G (Aqua Bliss, 64 GB)',\n",
       " 'POCO M6 5G - Locked with Airtel Prepaid (Polaris Green, 128 GB)',\n",
       " 'MOTOROLA g35 5G (Leaf Green, 128 GB)',\n",
       " 'OnePlus Nord CE 3 Lite 5G (Pastel Lime, 128 GB)',\n",
       " 'Infinix Note 40X 5G (Palm Blue, 256 GB)',\n",
       " 'Motorola g64 5G (Mint Green, 256 GB)',\n",
       " 'vivo T3 5G (Crystal Flake, 128 GB)',\n",
       " 'MOTOROLA g35 5G (Midnight Black, 128 GB)',\n",
       " 'OnePlus 13R 5G (Nebula Noir, 256 GB)',\n",
       " 'Infinix Note 40X 5G (Starlit Black, 256 GB)',\n",
       " 'Motorola G85 5G (Viva Magenta, 128 GB)',\n",
       " 'POCO C75 5G (Enchanted Green, 64 GB)',\n",
       " 'realme C61 (Safari Green, 128 GB)',\n",
       " 'POCO C75 5G (Silver Stardust, 64 GB)',\n",
       " 'CMF by Nothing Phone 1 (Black, 128 GB)',\n",
       " 'IQOO Z9x (Storm Grey, 128 GB)']"
      ]
     },
     "execution_count": 15,
     "metadata": {},
     "output_type": "execute_result"
    }
   ],
   "source": [
    "item_title"
   ]
  },
  {
   "cell_type": "code",
   "execution_count": 16,
   "metadata": {},
   "outputs": [
    {
     "data": {
      "text/plain": [
       "['₹6,299',\n",
       " '₹6,999',\n",
       " '₹5,899',\n",
       " '₹5,899',\n",
       " '₹5,399',\n",
       " '₹6,999',\n",
       " '₹15,499',\n",
       " '₹14,829',\n",
       " '₹7,999',\n",
       " '₹7,920',\n",
       " '₹9,999',\n",
       " '₹15,198',\n",
       " '₹13,999',\n",
       " '₹16,999',\n",
       " '₹18,499',\n",
       " '₹9,999',\n",
       " '₹41,399',\n",
       " '₹13,999',\n",
       " '₹17,999',\n",
       " '₹7,999',\n",
       " '₹8,199',\n",
       " '₹7,999',\n",
       " '₹15,499',\n",
       " '₹11,975',\n",
       " '₹11,975',\n",
       " '₹15,198',\n",
       " '₹17,999',\n",
       " '₹6,299',\n",
       " '₹13,999']"
      ]
     },
     "execution_count": 16,
     "metadata": {},
     "output_type": "execute_result"
    }
   ],
   "source": [
    "item_price"
   ]
  }
 ],
 "metadata": {
  "kernelspec": {
   "display_name": "Python 3",
   "language": "python",
   "name": "python3"
  },
  "language_info": {
   "codemirror_mode": {
    "name": "ipython",
    "version": 3
   },
   "file_extension": ".py",
   "mimetype": "text/x-python",
   "name": "python",
   "nbconvert_exporter": "python",
   "pygments_lexer": "ipython3",
   "version": "3.11.3"
  }
 },
 "nbformat": 4,
 "nbformat_minor": 2
}
