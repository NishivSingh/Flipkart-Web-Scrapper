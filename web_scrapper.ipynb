{
 "cells": [
  {
   "cell_type": "markdown",
   "metadata": {},
   "source": [
    "# Import Libraries"
   ]
  },
  {
   "cell_type": "code",
   "execution_count": 1,
   "metadata": {},
   "outputs": [],
   "source": [
    "from bs4 import BeautifulSoup\n",
    "import requests\n",
    "import smtplib\n",
    "import time\n",
    "import datetime"
   ]
  },
  {
   "cell_type": "markdown",
   "metadata": {},
   "source": [
    "# Connect to website"
   ]
  },
  {
   "cell_type": "code",
   "execution_count": 2,
   "metadata": {},
   "outputs": [],
   "source": [
    "URL = \"https://www.flipkart.com/search?q=smartphones&otracker=search&otracker1=search&marketplace=FLIPKART&as-show=on&as=off&sort=popularity\"\n",
    "\n",
    "headers = {\"User-Agent\": \"Mozilla/5.0 (Windows NT 10.0; Win64; x64) AppleWebKit/537.36 (KHTML, like Gecko) Chrome/132.0.0.0 Safari/537.36\",\"Accept-Encoding\":\"gzip, deflate\",\"Accept\":\"text/html,application/xhtml+xml,application/xml;q=0.9,*/*;q=0.8\",\"DNT\":\"1\",\"Connection\":\"close\",\"Upgrade-Insecure-Requests\":\"1\"}"
   ]
  },
  {
   "cell_type": "code",
   "execution_count": 3,
   "metadata": {},
   "outputs": [],
   "source": [
    "page = requests.get(URL,headers=headers)"
   ]
  },
  {
   "cell_type": "code",
   "execution_count": 4,
   "metadata": {},
   "outputs": [],
   "source": [
    "soup1 = BeautifulSoup(page.content,\"html.parser\")"
   ]
  },
  {
   "cell_type": "code",
   "execution_count": 5,
   "metadata": {},
   "outputs": [],
   "source": [
    "soup2 = BeautifulSoup(soup1.prettify(),\"html.parser\")"
   ]
  },
  {
   "cell_type": "code",
   "execution_count": 6,
   "metadata": {},
   "outputs": [
    {
     "name": "stdout",
     "output_type": "stream",
     "text": [
      "<title>\n",
      "   Smartphones- Buy Products Online at Best Price in India - All Categories | Flipkart.com\n",
      "  </title>\n"
     ]
    }
   ],
   "source": [
    "print(soup2.title)"
   ]
  },
  {
   "cell_type": "code",
   "execution_count": 7,
   "metadata": {},
   "outputs": [],
   "source": [
    "total_items = len(soup2.findAll(class_ = \"_75nlfW\"))"
   ]
  },
  {
   "cell_type": "code",
   "execution_count": 8,
   "metadata": {},
   "outputs": [
    {
     "data": {
      "text/plain": [
       "24"
      ]
     },
     "execution_count": 8,
     "metadata": {},
     "output_type": "execute_result"
    }
   ],
   "source": [
    "total_items"
   ]
  },
  {
   "cell_type": "code",
   "execution_count": 9,
   "metadata": {},
   "outputs": [],
   "source": [
    "divs_class_name = [\"KzDlHZ\",\"Nx9bqj\",\"XQDdHH\"]"
   ]
  },
  {
   "cell_type": "code",
   "execution_count": 10,
   "metadata": {},
   "outputs": [],
   "source": [
    "def get_list(div_list):\n",
    "    lst = []\n",
    "    for div in div_list:\n",
    "        lst.append(div.get_text().strip())\n",
    "    return lst"
   ]
  },
  {
   "cell_type": "code",
   "execution_count": 11,
   "metadata": {},
   "outputs": [],
   "source": [
    "item_list = []\n",
    "\n",
    "for class_name in divs_class_name:\n",
    "    item_list.append(get_list(soup2.find_all(class_=class_name)))"
   ]
  },
  {
   "cell_type": "code",
   "execution_count": 12,
   "metadata": {},
   "outputs": [
    {
     "data": {
      "text/plain": [
       "[['vivo T3x 5G (Celestial Green, 128 GB)',\n",
       "  'vivo T3x 5G (Crimson Bliss, 128 GB)',\n",
       "  'vivo T3x 5G (Sapphire Blue, 128 GB)',\n",
       "  'vivo T3x 5G (Crimson Bliss, 128 GB)',\n",
       "  'vivo T3x 5G (Celestial Green, 128 GB)',\n",
       "  'vivo T3x 5G (Celestial Green, 128 GB)',\n",
       "  'Apple iPhone 16 (White, 256 GB)',\n",
       "  'vivo T3x 5G (Sapphire Blue, 128 GB)',\n",
       "  'Apple iPhone 16 (White, 128 GB)',\n",
       "  'vivo T3x 5G (Crimson Bliss, 128 GB)',\n",
       "  'SAMSUNG Galaxy F05 (Twilight Blue, 64 GB)',\n",
       "  'vivo T3 Lite 5G (Vibrant Green, 128 GB)',\n",
       "  'vivo T3 Lite 5G (Vibrant Green, 128 GB)',\n",
       "  'vivo T3 Lite 5G (Majestic Black, 128 GB)',\n",
       "  'OPPO K12x 5G with 45W SUPERVOOC Charger In-The-Box (Feather Pink, 128 GB)',\n",
       "  'OPPO K12x 5G with 45W SUPERVOOC Charger In-The-Box (Midnight Violet, 128 GB)',\n",
       "  'POCO C61  - Locked with Airtel Prepaid (Diamond Dust Black, 64 GB)',\n",
       "  'Motorola g45 5G (Brilliant Blue, 128 GB)',\n",
       "  'MOTOROLA g05 (Forest Green, 64 GB)',\n",
       "  'vivo T3 Lite 5G (Majestic Black, 128 GB)',\n",
       "  'Apple iPhone 16 Plus (Teal, 512 GB)',\n",
       "  'Apple iPhone 16 Plus (Pink, 512 GB)',\n",
       "  'Motorola g45 5G (Brilliant Green, 128 GB)',\n",
       "  'Motorola g45 5G (Brilliant Green, 128 GB)'],\n",
       " ['₹13,999',\n",
       "  '₹13,999',\n",
       "  '₹13,999',\n",
       "  '₹12,499',\n",
       "  '₹12,499',\n",
       "  '₹15,499',\n",
       "  '₹84,900',\n",
       "  '₹12,499',\n",
       "  '₹74,900',\n",
       "  '₹15,499',\n",
       "  '₹6,299',\n",
       "  '₹11,499',\n",
       "  '₹10,499',\n",
       "  '₹10,499',\n",
       "  '₹12,999',\n",
       "  '₹12,999',\n",
       "  '₹5,399',\n",
       "  '₹12,999',\n",
       "  '₹6,999',\n",
       "  '₹11,499',\n",
       "  '₹1,14,900',\n",
       "  '₹1,14,900',\n",
       "  '₹12,999',\n",
       "  '₹10,999',\n",
       "  '₹15,499',\n",
       "  '₹10,999',\n",
       "  '₹6,299',\n",
       "  '₹13,999',\n",
       "  '₹6,999'],\n",
       " ['4.5',\n",
       "  '4.5',\n",
       "  '4.5',\n",
       "  '4.4',\n",
       "  '4.4',\n",
       "  '4.4',\n",
       "  '4.6',\n",
       "  '4.4',\n",
       "  '4.6',\n",
       "  '4.4',\n",
       "  '4.2',\n",
       "  '4.4',\n",
       "  '4.4',\n",
       "  '4.4',\n",
       "  '4.5',\n",
       "  '4.5',\n",
       "  '4.2',\n",
       "  '4.4',\n",
       "  '4.3',\n",
       "  '4.4',\n",
       "  '4.6',\n",
       "  '4.6',\n",
       "  '4.4',\n",
       "  '4.3',\n",
       "  '4.4',\n",
       "  '5',\n",
       "  '5',\n",
       "  '4.3',\n",
       "  '5',\n",
       "  '1',\n",
       "  '4.2',\n",
       "  '4',\n",
       "  '5',\n",
       "  '4.5',\n",
       "  '5',\n",
       "  '5',\n",
       "  '4.3',\n",
       "  '5',\n",
       "  '5']]"
      ]
     },
     "execution_count": 12,
     "metadata": {},
     "output_type": "execute_result"
    }
   ],
   "source": [
    "item_list"
   ]
  },
  {
   "cell_type": "code",
   "execution_count": 16,
   "metadata": {},
   "outputs": [],
   "source": [
    "item_title = item_list[0]\n",
    "item_price = item_list[1]\n",
    "item_rating = item_list[2]"
   ]
  },
  {
   "cell_type": "code",
   "execution_count": null,
   "metadata": {},
   "outputs": [
    {
     "data": {
      "text/plain": [
       "24"
      ]
     },
     "execution_count": 20,
     "metadata": {},
     "output_type": "execute_result"
    }
   ],
   "source": [
    "item_title"
   ]
  },
  {
   "cell_type": "code",
   "execution_count": null,
   "metadata": {},
   "outputs": [
    {
     "data": {
      "text/plain": [
       "29"
      ]
     },
     "execution_count": 19,
     "metadata": {},
     "output_type": "execute_result"
    }
   ],
   "source": [
    "item_price"
   ]
  },
  {
   "cell_type": "code",
   "execution_count": null,
   "metadata": {},
   "outputs": [
    {
     "data": {
      "text/plain": [
       "39"
      ]
     },
     "execution_count": 18,
     "metadata": {},
     "output_type": "execute_result"
    }
   ],
   "source": [
    "item_rating"
   ]
  }
 ],
 "metadata": {
  "kernelspec": {
   "display_name": "Python 3",
   "language": "python",
   "name": "python3"
  },
  "language_info": {
   "codemirror_mode": {
    "name": "ipython",
    "version": 3
   },
   "file_extension": ".py",
   "mimetype": "text/x-python",
   "name": "python",
   "nbconvert_exporter": "python",
   "pygments_lexer": "ipython3",
   "version": "3.11.3"
  }
 },
 "nbformat": 4,
 "nbformat_minor": 2
}
