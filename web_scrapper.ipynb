{
 "cells": [
  {
   "cell_type": "markdown",
   "metadata": {},
   "source": [
    "# Import Libraries"
   ]
  },
  {
   "cell_type": "code",
   "execution_count": 1,
   "metadata": {},
   "outputs": [],
   "source": [
    "from bs4 import BeautifulSoup\n",
    "import requests\n",
    "import smtplib\n",
    "import time\n",
    "import datetime"
   ]
  },
  {
   "cell_type": "markdown",
   "metadata": {},
   "source": [
    "# Connect to website"
   ]
  },
  {
   "cell_type": "code",
   "execution_count": 2,
   "metadata": {},
   "outputs": [],
   "source": [
    "URL = \"https://www.flipkart.com/search?q=smartphones&otracker=search&otracker1=search&marketplace=FLIPKART&as-show=on&as=off&sort=popularity\"\n",
    "\n",
    "headers = {\"User-Agent\": \"Mozilla/5.0 (Windows NT 10.0; Win64; x64) AppleWebKit/537.36 (KHTML, like Gecko) Chrome/132.0.0.0 Safari/537.36\",\"Accept-Encoding\":\"gzip, deflate\",\"Accept\":\"text/html,application/xhtml+xml,application/xml;q=0.9,*/*;q=0.8\",\"DNT\":\"1\",\"Connection\":\"close\",\"Upgrade-Insecure-Requests\":\"1\"}"
   ]
  },
  {
   "cell_type": "code",
   "execution_count": 3,
   "metadata": {},
   "outputs": [],
   "source": [
    "page = requests.get(URL,headers=headers)"
   ]
  },
  {
   "cell_type": "code",
   "execution_count": 4,
   "metadata": {},
   "outputs": [],
   "source": [
    "soup1 = BeautifulSoup(page.content,\"html.parser\")"
   ]
  },
  {
   "cell_type": "code",
   "execution_count": 5,
   "metadata": {},
   "outputs": [],
   "source": [
    "soup2 = BeautifulSoup(soup1.prettify(),\"html.parser\")"
   ]
  },
  {
   "cell_type": "code",
   "execution_count": 6,
   "metadata": {},
   "outputs": [
    {
     "name": "stdout",
     "output_type": "stream",
     "text": [
      "<title>\n",
      "   Smartphones- Buy Products Online at Best Price in India - All Categories | Flipkart.com\n",
      "  </title>\n"
     ]
    }
   ],
   "source": [
    "print(soup2.title)"
   ]
  },
  {
   "cell_type": "markdown",
   "metadata": {},
   "source": [
    "# Extracting the data"
   ]
  },
  {
   "cell_type": "code",
   "execution_count": 19,
   "metadata": {},
   "outputs": [],
   "source": [
    "item_div = soup2.find(\"div\",class_=\"DOjaWF\")"
   ]
  },
  {
   "cell_type": "code",
   "execution_count": 20,
   "metadata": {},
   "outputs": [],
   "source": [
    "total_items = len(soup2.findAll(class_ = \"_75nlfW\"))"
   ]
  },
  {
   "cell_type": "code",
   "execution_count": 21,
   "metadata": {},
   "outputs": [
    {
     "data": {
      "text/plain": [
       "24"
      ]
     },
     "execution_count": 21,
     "metadata": {},
     "output_type": "execute_result"
    }
   ],
   "source": [
    "total_items"
   ]
  },
  {
   "cell_type": "code",
   "execution_count": 22,
   "metadata": {},
   "outputs": [],
   "source": [
    "divs_class_name = [\"KzDlHZ\",\"Nx9bqj\",\"XQDdHH\"]"
   ]
  },
  {
   "cell_type": "code",
   "execution_count": 23,
   "metadata": {},
   "outputs": [],
   "source": [
    "def get_list(div_list):\n",
    "    lst = []\n",
    "    for div in div_list:\n",
    "        lst.append(div.get_text().strip())\n",
    "    return lst"
   ]
  },
  {
   "cell_type": "code",
   "execution_count": 24,
   "metadata": {},
   "outputs": [],
   "source": [
    "item_list = []\n",
    "\n",
    "for class_name in divs_class_name:\n",
    "    item_list.append(get_list(item_div.find_all(class_=class_name)))"
   ]
  },
  {
   "cell_type": "code",
   "execution_count": 25,
   "metadata": {},
   "outputs": [
    {
     "data": {
      "text/plain": [
       "[['SAMSUNG Galaxy F05 (Twilight Blue, 64 GB)',\n",
       "  'POCO C61  - Locked with Airtel Prepaid (Diamond Dust Black, 64 GB)',\n",
       "  'POCO C75 5G (Aqua Bliss, 64 GB)',\n",
       "  'CMF by Nothing Phone 1 (Light Green, 128 GB)',\n",
       "  'MOTOROLA g05 (Forest Green, 64 GB)',\n",
       "  'POCO M6 5G - Locked with Airtel Prepaid (Galactic Black, 128 GB)',\n",
       "  'POCO C61 (Diamond Dust Black, 64 GB)',\n",
       "  'MOTOROLA g05 (Plum Red, 64 GB)',\n",
       "  'OnePlus Nord CE 3 Lite 5G (Pastel Lime, 128 GB)',\n",
       "  'realme P1 5G (Phoenix Red, 128 GB)',\n",
       "  'IQOO Z9x (Tornado Green, 128 GB)',\n",
       "  'SAMSUNG Galaxy M35 5G (Thunder Grey, 128 GB)',\n",
       "  'Motorola g45 5G (Viva Magenta, 128 GB)',\n",
       "  'POCO C61 (Ethereal Blue, 64 GB)',\n",
       "  'realme 70 TURBO 5G (Turbo Yellow, 128 GB)',\n",
       "  'realme P2 Pro 5G (Parrot Green, 256 GB)',\n",
       "  'realme Narzo N61 (Voyage Blue, 64 GB)',\n",
       "  'IQOO Z9 Lite 5G (Aqua Flow, 128 GB)',\n",
       "  'Infinix Note 40X 5G (Starlit Black, 256 GB)',\n",
       "  'MOTOROLA g35 5G (Midnight Black, 128 GB)',\n",
       "  'OnePlus Nord CE4 (Celadon Marble, 128 GB)',\n",
       "  'realme C63 5G Charger in the Box (Starry Gold, 128 GB)',\n",
       "  'Infinix Note 40X 5G (Palm Blue, 256 GB)',\n",
       "  'MOTOROLA g35 5G (Leaf Green, 128 GB)'],\n",
       " ['₹6,299',\n",
       "  '₹5,399',\n",
       "  '₹7,999',\n",
       "  '₹14,999',\n",
       "  '₹6,999',\n",
       "  '₹7,920',\n",
       "  '₹5,899',\n",
       "  '₹6,999',\n",
       "  '₹15,149',\n",
       "  '₹14,999',\n",
       "  '₹11,615',\n",
       "  '₹14,897',\n",
       "  '₹12,999',\n",
       "  '₹5,899',\n",
       "  '₹14,760',\n",
       "  '₹21,999',\n",
       "  '₹7,690',\n",
       "  '₹11,445',\n",
       "  '₹13,999',\n",
       "  '₹9,999',\n",
       "  '₹21,765',\n",
       "  '₹10,999',\n",
       "  '₹13,999',\n",
       "  '₹9,999'],\n",
       " ['4.2',\n",
       "  '4.2',\n",
       "  '4.3',\n",
       "  '4.4',\n",
       "  '4.3',\n",
       "  '4.2',\n",
       "  '4.2',\n",
       "  '4.3',\n",
       "  '4.4',\n",
       "  '4.4',\n",
       "  '4.3',\n",
       "  '4.4',\n",
       "  '4.4',\n",
       "  '4.2',\n",
       "  '4.3',\n",
       "  '4.4',\n",
       "  '4.3',\n",
       "  '4.3',\n",
       "  '4.3',\n",
       "  '4.2',\n",
       "  '4.5',\n",
       "  '4.5',\n",
       "  '4.3',\n",
       "  '4.2']]"
      ]
     },
     "execution_count": 25,
     "metadata": {},
     "output_type": "execute_result"
    }
   ],
   "source": [
    "item_list"
   ]
  },
  {
   "cell_type": "code",
   "execution_count": 26,
   "metadata": {},
   "outputs": [],
   "source": [
    "item_title = item_list[0]\n",
    "item_price = item_list[1]\n",
    "item_rating = item_list[2]"
   ]
  },
  {
   "cell_type": "code",
   "execution_count": 27,
   "metadata": {},
   "outputs": [
    {
     "data": {
      "text/plain": [
       "(24, 24, 24)"
      ]
     },
     "execution_count": 27,
     "metadata": {},
     "output_type": "execute_result"
    }
   ],
   "source": [
    "len(item_title),len(item_price),len(item_rating)"
   ]
  },
  {
   "cell_type": "code",
   "execution_count": 28,
   "metadata": {},
   "outputs": [
    {
     "data": {
      "text/plain": [
       "['SAMSUNG Galaxy F05 (Twilight Blue, 64 GB)',\n",
       " 'POCO C61  - Locked with Airtel Prepaid (Diamond Dust Black, 64 GB)',\n",
       " 'POCO C75 5G (Aqua Bliss, 64 GB)',\n",
       " 'CMF by Nothing Phone 1 (Light Green, 128 GB)',\n",
       " 'MOTOROLA g05 (Forest Green, 64 GB)',\n",
       " 'POCO M6 5G - Locked with Airtel Prepaid (Galactic Black, 128 GB)',\n",
       " 'POCO C61 (Diamond Dust Black, 64 GB)',\n",
       " 'MOTOROLA g05 (Plum Red, 64 GB)',\n",
       " 'OnePlus Nord CE 3 Lite 5G (Pastel Lime, 128 GB)',\n",
       " 'realme P1 5G (Phoenix Red, 128 GB)',\n",
       " 'IQOO Z9x (Tornado Green, 128 GB)',\n",
       " 'SAMSUNG Galaxy M35 5G (Thunder Grey, 128 GB)',\n",
       " 'Motorola g45 5G (Viva Magenta, 128 GB)',\n",
       " 'POCO C61 (Ethereal Blue, 64 GB)',\n",
       " 'realme 70 TURBO 5G (Turbo Yellow, 128 GB)',\n",
       " 'realme P2 Pro 5G (Parrot Green, 256 GB)',\n",
       " 'realme Narzo N61 (Voyage Blue, 64 GB)',\n",
       " 'IQOO Z9 Lite 5G (Aqua Flow, 128 GB)',\n",
       " 'Infinix Note 40X 5G (Starlit Black, 256 GB)',\n",
       " 'MOTOROLA g35 5G (Midnight Black, 128 GB)',\n",
       " 'OnePlus Nord CE4 (Celadon Marble, 128 GB)',\n",
       " 'realme C63 5G Charger in the Box (Starry Gold, 128 GB)',\n",
       " 'Infinix Note 40X 5G (Palm Blue, 256 GB)',\n",
       " 'MOTOROLA g35 5G (Leaf Green, 128 GB)']"
      ]
     },
     "execution_count": 28,
     "metadata": {},
     "output_type": "execute_result"
    }
   ],
   "source": [
    "item_title"
   ]
  },
  {
   "cell_type": "code",
   "execution_count": 29,
   "metadata": {},
   "outputs": [
    {
     "data": {
      "text/plain": [
       "['₹6,299',\n",
       " '₹5,399',\n",
       " '₹7,999',\n",
       " '₹14,999',\n",
       " '₹6,999',\n",
       " '₹7,920',\n",
       " '₹5,899',\n",
       " '₹6,999',\n",
       " '₹15,149',\n",
       " '₹14,999',\n",
       " '₹11,615',\n",
       " '₹14,897',\n",
       " '₹12,999',\n",
       " '₹5,899',\n",
       " '₹14,760',\n",
       " '₹21,999',\n",
       " '₹7,690',\n",
       " '₹11,445',\n",
       " '₹13,999',\n",
       " '₹9,999',\n",
       " '₹21,765',\n",
       " '₹10,999',\n",
       " '₹13,999',\n",
       " '₹9,999']"
      ]
     },
     "execution_count": 29,
     "metadata": {},
     "output_type": "execute_result"
    }
   ],
   "source": [
    "item_price"
   ]
  },
  {
   "cell_type": "code",
   "execution_count": 30,
   "metadata": {},
   "outputs": [
    {
     "data": {
      "text/plain": [
       "['4.2',\n",
       " '4.2',\n",
       " '4.3',\n",
       " '4.4',\n",
       " '4.3',\n",
       " '4.2',\n",
       " '4.2',\n",
       " '4.3',\n",
       " '4.4',\n",
       " '4.4',\n",
       " '4.3',\n",
       " '4.4',\n",
       " '4.4',\n",
       " '4.2',\n",
       " '4.3',\n",
       " '4.4',\n",
       " '4.3',\n",
       " '4.3',\n",
       " '4.3',\n",
       " '4.2',\n",
       " '4.5',\n",
       " '4.5',\n",
       " '4.3',\n",
       " '4.2']"
      ]
     },
     "execution_count": 30,
     "metadata": {},
     "output_type": "execute_result"
    }
   ],
   "source": [
    "item_rating"
   ]
  }
 ],
 "metadata": {
  "kernelspec": {
   "display_name": "Python 3",
   "language": "python",
   "name": "python3"
  },
  "language_info": {
   "codemirror_mode": {
    "name": "ipython",
    "version": 3
   },
   "file_extension": ".py",
   "mimetype": "text/x-python",
   "name": "python",
   "nbconvert_exporter": "python",
   "pygments_lexer": "ipython3",
   "version": "3.11.3"
  }
 },
 "nbformat": 4,
 "nbformat_minor": 2
}
