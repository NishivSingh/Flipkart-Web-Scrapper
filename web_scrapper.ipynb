{
 "cells": [
  {
   "cell_type": "markdown",
   "metadata": {},
   "source": [
    "# Import Libraries"
   ]
  },
  {
   "cell_type": "code",
   "execution_count": 2,
   "metadata": {},
   "outputs": [],
   "source": [
    "from bs4 import BeautifulSoup\n",
    "import requests\n",
    "import smtplib\n",
    "import time\n",
    "import datetime"
   ]
  },
  {
   "cell_type": "markdown",
   "metadata": {},
   "source": [
    "# Connect to website"
   ]
  },
  {
   "cell_type": "code",
   "execution_count": 3,
   "metadata": {},
   "outputs": [],
   "source": [
    "URL = \"https://www.flipkart.com/search?q=smartphones&otracker=search&otracker1=search&marketplace=FLIPKART&as-show=on&as=off&sort=popularity\"\n",
    "\n",
    "headers = {\"User-Agent\": \"Mozilla/5.0 (Windows NT 10.0; Win64; x64) AppleWebKit/537.36 (KHTML, like Gecko) Chrome/132.0.0.0 Safari/537.36\",\"Accept-Encoding\":\"gzip, deflate\",\"Accept\":\"text/html,application/xhtml+xml,application/xml;q=0.9,*/*;q=0.8\",\"DNT\":\"1\",\"Connection\":\"close\",\"Upgrade-Insecure-Requests\":\"1\"}"
   ]
  },
  {
   "cell_type": "code",
   "execution_count": 4,
   "metadata": {},
   "outputs": [],
   "source": [
    "page = requests.get(URL,headers=headers)"
   ]
  },
  {
   "cell_type": "code",
   "execution_count": 5,
   "metadata": {},
   "outputs": [],
   "source": [
    "soup1 = BeautifulSoup(page.content,\"html.parser\")"
   ]
  },
  {
   "cell_type": "code",
   "execution_count": 6,
   "metadata": {},
   "outputs": [],
   "source": [
    "soup2 = BeautifulSoup(soup1.prettify(),\"html.parser\")"
   ]
  },
  {
   "cell_type": "code",
   "execution_count": 14,
   "metadata": {},
   "outputs": [
    {
     "name": "stdout",
     "output_type": "stream",
     "text": [
      "<title>\n",
      "   Smartphones- Buy Products Online at Best Price in India - All Categories | Flipkart.com\n",
      "  </title>\n"
     ]
    }
   ],
   "source": [
    "print(soup2.title)"
   ]
  },
  {
   "cell_type": "code",
   "execution_count": 8,
   "metadata": {},
   "outputs": [],
   "source": [
    "total_items = len(soup2.findAll(class_ = \"_75nlfW\"))"
   ]
  },
  {
   "cell_type": "code",
   "execution_count": 9,
   "metadata": {},
   "outputs": [
    {
     "data": {
      "text/plain": [
       "24"
      ]
     },
     "execution_count": 9,
     "metadata": {},
     "output_type": "execute_result"
    }
   ],
   "source": [
    "total_items"
   ]
  },
  {
   "cell_type": "code",
   "execution_count": 10,
   "metadata": {},
   "outputs": [],
   "source": [
    "divs_class_name = [\"KzDlHZ\",\"Nx9bqj\"]"
   ]
  },
  {
   "cell_type": "code",
   "execution_count": 11,
   "metadata": {},
   "outputs": [],
   "source": [
    "def get_list(div_list):\n",
    "    lst = []\n",
    "    for div in div_list:\n",
    "        lst.append(div.get_text().strip())\n",
    "    return lst"
   ]
  },
  {
   "cell_type": "code",
   "execution_count": 12,
   "metadata": {},
   "outputs": [],
   "source": [
    "item_list = []\n",
    "\n",
    "for class_name in divs_class_name:\n",
    "    item_list.append(get_list(soup2.find_all(class_=class_name)))"
   ]
  },
  {
   "cell_type": "code",
   "execution_count": 13,
   "metadata": {},
   "outputs": [
    {
     "data": {
      "text/plain": [
       "[['SAMSUNG Galaxy F05 (Twilight Blue, 64 GB)',\n",
       "  'POCO C75 5G (Aqua Bliss, 64 GB)',\n",
       "  'MOTOROLA g05 (Plum Red, 64 GB)',\n",
       "  'realme Narzo N61 (Voyage Blue, 64 GB)',\n",
       "  'CMF by Nothing Phone 1 (Black, 128 GB)',\n",
       "  'realme C63 5G Charger in the Box (Forest Green, 128 GB)',\n",
       "  'realme C63 5G Charger in the Box (Starry Gold, 128 GB)',\n",
       "  'OnePlus 13R 5G (Nebula Noir, 256 GB)',\n",
       "  'Infinix Note 40X 5G (Palm Blue, 256 GB)',\n",
       "  'REDMI 13 5G (Hawaiian Blue, 128 GB)',\n",
       "  'Infinix Hot 50 5G (Sage Green, 128 GB)',\n",
       "  'POCO C61  - Locked with Airtel Prepaid (Diamond Dust Black, 64 GB)',\n",
       "  'REDMI A4 5G only on Jio SIM (Sparkle Purple, 64 GB)',\n",
       "  'MOTOROLA g05 (Forest Green, 64 GB)',\n",
       "  'REDMI 13 5G (Orchid Pink, 128 GB)',\n",
       "  'CMF by Nothing Phone 1 (Light Green, 128 GB)',\n",
       "  'Infinix Note 40 5G (Obsidian Black, 256 GB)',\n",
       "  'IQOO Z9x (Storm Grey, 128 GB)',\n",
       "  'realme C61 (Marble Black, 128 GB)',\n",
       "  'REDMI Note 13 5G (Chromatic Purple, 256 GB)',\n",
       "  'POCO C61 (Ethereal Blue, 64 GB)',\n",
       "  'OnePlus Nord CE 3 Lite 5G (Pastel Lime, 128 GB)',\n",
       "  'realme Narzo N65 5G (Amber Gold, 128 GB)',\n",
       "  'Infinix Hot 50 5G (Sleek Black, 128 GB)'],\n",
       " ['₹6,499',\n",
       "  '₹7,999',\n",
       "  '₹6,999',\n",
       "  '₹7,121',\n",
       "  '₹15,499',\n",
       "  '₹11,999',\n",
       "  '₹11,999',\n",
       "  '₹41,374',\n",
       "  '₹13,999',\n",
       "  '₹11,906',\n",
       "  '₹10,999',\n",
       "  '₹5,399',\n",
       "  '₹8,998',\n",
       "  '₹6,999',\n",
       "  '₹12,499',\n",
       "  '₹15,499',\n",
       "  '₹15,999',\n",
       "  '₹11,765',\n",
       "  '₹8,199',\n",
       "  '₹16,999',\n",
       "  '₹5,999',\n",
       "  '₹15,515',\n",
       "  '₹10,748',\n",
       "  '₹10,999',\n",
       "  '₹11,765',\n",
       "  '₹8,199',\n",
       "  '₹7,999',\n",
       "  '₹15,515',\n",
       "  '₹6,499']]"
      ]
     },
     "execution_count": 13,
     "metadata": {},
     "output_type": "execute_result"
    }
   ],
   "source": [
    "item_list"
   ]
  },
  {
   "cell_type": "code",
   "execution_count": null,
   "metadata": {},
   "outputs": [],
   "source": []
  }
 ],
 "metadata": {
  "kernelspec": {
   "display_name": "Python 3",
   "language": "python",
   "name": "python3"
  },
  "language_info": {
   "codemirror_mode": {
    "name": "ipython",
    "version": 3
   },
   "file_extension": ".py",
   "mimetype": "text/x-python",
   "name": "python",
   "nbconvert_exporter": "python",
   "pygments_lexer": "ipython3",
   "version": "3.11.3"
  }
 },
 "nbformat": 4,
 "nbformat_minor": 2
}
